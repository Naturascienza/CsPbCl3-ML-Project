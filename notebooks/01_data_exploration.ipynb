{
 "cells": [
  {
   "cell_type": "markdown",
   "id": "3310383e",
   "metadata": {},
   "source": [
    "# CsPbCl3 데이터 탐색\n",
    "\n",
    "이 노트북은 CsPbCl3 페로브스카이트 재료 데이터의 초기 탐색을 위한 것입니다."
   ]
  },
  {
   "cell_type": "code",
   "execution_count": null,
   "id": "516c5293",
   "metadata": {},
   "outputs": [],
   "source": [
    "# 라이브러리 임포트\n",
    "import numpy as np\n",
    "import pandas as pd\n",
    "import matplotlib.pyplot as plt\n",
    "import seaborn as sns\n",
    "\n",
    "# 설정\n",
    "%matplotlib inline\n",
    "sns.set_theme()\n",
    "pd.set_option('display.max_columns', None)"
   ]
  },
  {
   "cell_type": "markdown",
   "id": "b6e43aa7",
   "metadata": {},
   "source": [
    "## 1. 데이터 로드"
   ]
  },
  {
   "cell_type": "code",
   "execution_count": null,
   "id": "7f112774",
   "metadata": {},
   "outputs": [],
   "source": [
    "# 데이터 파일 경로 설정\n",
    "data_path = '../data/your_data.csv'\n",
    "\n",
    "# 데이터 로드\n",
    "# df = pd.read_csv(data_path)\n",
    "# df.head()"
   ]
  },
  {
   "cell_type": "markdown",
   "id": "2099cb13",
   "metadata": {},
   "source": [
    "## 2. 기본 정보 확인"
   ]
  },
  {
   "cell_type": "code",
   "execution_count": null,
   "id": "bb6fc95b",
   "metadata": {},
   "outputs": [],
   "source": [
    "# 데이터 형태\n",
    "# print(f\"데이터 형태: {df.shape}\")\n",
    "\n",
    "# 데이터 정보\n",
    "# df.info()"
   ]
  },
  {
   "cell_type": "markdown",
   "id": "643e4199",
   "metadata": {},
   "source": [
    "## 3. 통계적 요약"
   ]
  },
  {
   "cell_type": "code",
   "execution_count": null,
   "id": "c1b954ff",
   "metadata": {},
   "outputs": [],
   "source": [
    "# 기술통계\n",
    "# df.describe()"
   ]
  },
  {
   "cell_type": "markdown",
   "id": "ab95c297",
   "metadata": {},
   "source": [
    "## 4. 데이터 시각화"
   ]
  },
  {
   "cell_type": "code",
   "execution_count": null,
   "id": "e9105e80",
   "metadata": {},
   "outputs": [],
   "source": [
    "# 분포 시각화\n",
    "# df.hist(figsize=(15, 10), bins=30)\n",
    "# plt.tight_layout()\n",
    "# plt.show()"
   ]
  },
  {
   "cell_type": "markdown",
   "id": "5aa97e12",
   "metadata": {},
   "source": [
    "## 5. 상관관계 분석"
   ]
  },
  {
   "cell_type": "code",
   "execution_count": null,
   "id": "1de934a9",
   "metadata": {},
   "outputs": [],
   "source": [
    "# 상관관계 매트릭스\n",
    "# plt.figure(figsize=(12, 8))\n",
    "# sns.heatmap(df.corr(), annot=True, cmap='coolwarm', center=0)\n",
    "# plt.title('Feature Correlation Matrix')\n",
    "# plt.tight_layout()\n",
    "# plt.show()"
   ]
  }
 ],
 "metadata": {
  "language_info": {
   "name": "python"
  }
 },
 "nbformat": 4,
 "nbformat_minor": 5
}
