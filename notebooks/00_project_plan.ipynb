{
 "cells": [
  {
   "cell_type": "markdown",
   "id": "53bc15c9",
   "metadata": {},
   "source": [
    "# CsPbCl3 QD 특성 예측 프로젝트 계획\n",
    "\n",
    "## 📋 프로젝트 개요\n",
    "- **목적**: 문헌 데이터 기반 CsPbCl3 양자점 특성 예측 ML 모델 개발\n",
    "- **최종 목표**: 학술 논문 작성"
   ]
  },
  {
   "cell_type": "markdown",
   "id": "8fa2cf34",
   "metadata": {},
   "source": [
    "## 🎯 연구 질문\n",
    "\n",
    "### 예측 목표 (Target Variables)\n",
    "다음 중 어떤 특성을 예측하고 싶으신가요?\n",
    "\n",
    "1. **광학적 특성**\n",
    "   - PL 피크 위치 (nm)\n",
    "   - Photoluminescence Quantum Yield (PLQY, %)\n",
    "   - Full Width at Half Maximum (FWHM, nm)\n",
    "   - Absorption 피크\n",
    "\n",
    "2. **물리적 특성**\n",
    "   - 양자점 크기 (nm)\n",
    "   - 형태 (cubic, spherical 등)\n",
    "   - 안정성 (시간에 따른 PL 유지율)\n",
    "\n",
    "3. **합성 최적화**\n",
    "   - 최적 합성 조건 예측\n",
    "   - 수율 예측"
   ]
  },
  {
   "cell_type": "markdown",
   "id": "d5af6fce",
   "metadata": {},
   "source": [
    "## 📊 데이터 수집 계획\n",
    "\n",
    "### Feature Variables (입력 변수)\n",
    "\n",
    "#### 1. 합성 조건\n",
    "```python\n",
    "synthesis_conditions = {\n",
    "    'temperature': [],          # 합성 온도 (°C)\n",
    "    'reaction_time': [],        # 반응 시간 (min, hr)\n",
    "    'precursor_ratio': [],      # Cs:Pb:Cl 비율\n",
    "    'ligand_type': [],          # 리간드 종류 (OA, OAm 등)\n",
    "    'ligand_concentration': [], # 리간드 농도\n",
    "    'solvent': [],              # 용매 종류\n",
    "    'injection_rate': [],       # 주입 속도\n",
    "}\n",
    "```\n",
    "\n",
    "#### 2. 전구체 정보\n",
    "```python\n",
    "precursor_info = {\n",
    "    'cs_source': [],      # Cs 전구체 (Cs2CO3, CsOAc 등)\n",
    "    'pb_source': [],      # Pb 전구체 (PbCl2, PbBr2 등)\n",
    "    'concentration': [],  # 전구체 농도\n",
    "}\n",
    "```\n",
    "\n",
    "#### 3. 후처리 조건\n",
    "```python\n",
    "post_processing = {\n",
    "    'purification_method': [],  # 정제 방법\n",
    "    'storage_condition': [],    # 보관 조건\n",
    "    'surface_treatment': [],    # 표면 처리\n",
    "}\n",
    "```"
   ]
  },
  {
   "cell_type": "markdown",
   "id": "ad2ed040",
   "metadata": {},
   "source": [
    "## 📚 문헌 데이터 추출 템플릿\n",
    "\n",
    "### 데이터 입력 양식\n",
    "```csv\n",
    "paper_id,author,year,temperature,reaction_time,cs_pb_cl_ratio,ligand_type,solvent,pl_peak,plqy,fwhm,qd_size\n",
    "```\n",
    "\n",
    "### 필요한 정보\n",
    "1. 논문 메타데이터 (저자, 연도, DOI)\n",
    "2. 실험 조건 (위에서 정의한 features)\n",
    "3. 측정 결과 (target variables)\n",
    "4. 측정 방법 및 장비"
   ]
  },
  {
   "cell_type": "markdown",
   "id": "2dcec29d",
   "metadata": {},
   "source": [
    "## 🔄 워크플로우\n",
    "\n",
    "### Phase 1: 데이터 수집 (2-4주)\n",
    "- [ ] 관련 문헌 검색 및 선정 (50-100편 목표)\n",
    "- [ ] 데이터 추출 및 데이터베이스 구축\n",
    "- [ ] 데이터 품질 검증\n",
    "\n",
    "### Phase 2: 데이터 전처리 (1-2주)\n",
    "- [ ] 결측치 처리\n",
    "- [ ] 이상치 탐지 및 제거\n",
    "- [ ] 특성 엔지니어링\n",
    "- [ ] 데이터 정규화\n",
    "\n",
    "### Phase 3: 모델 개발 (2-3주)\n",
    "- [ ] 기본 모델 학습 (Linear, RF, XGBoost)\n",
    "- [ ] 하이퍼파라미터 튜닝\n",
    "- [ ] 교차 검증\n",
    "- [ ] 특성 중요도 분석\n",
    "\n",
    "### Phase 4: 검증 및 해석 (1-2주)\n",
    "- [ ] 모델 성능 평가\n",
    "- [ ] 예측 vs 실제값 비교\n",
    "- [ ] 물리화학적 해석\n",
    "- [ ] 최적 합성 조건 제안\n",
    "\n",
    "### Phase 5: 논문 작성 (3-4주)\n",
    "- [ ] Introduction\n",
    "- [ ] Methods\n",
    "- [ ] Results & Discussion\n",
    "- [ ] Conclusion"
   ]
  },
  {
   "cell_type": "markdown",
   "id": "13f2d887",
   "metadata": {},
   "source": [
    "## 💡 다음 액션 아이템\n",
    "\n",
    "### 즉시 시작 가능:\n",
    "1. ✅ **문헌 공유**: PDF나 문헌 정보를 첨부해주세요\n",
    "2. ✅ **타겟 변수 결정**: 어떤 특성을 예측하고 싶으신가요?\n",
    "3. ✅ **데이터 범위 결정**: 몇 편의 논문을 대상으로 할까요?\n",
    "\n",
    "### 준비할 것:\n",
    "- 문헌 검색 키워드 리스트\n",
    "- 데이터 수집 기준 (inclusion/exclusion criteria)\n",
    "- 목표 샘플 수"
   ]
  },
  {
   "cell_type": "code",
   "execution_count": null,
   "id": "78f3c122",
   "metadata": {},
   "outputs": [],
   "source": [
    "# 프로젝트 설정\n",
    "project_config = {\n",
    "    'project_name': 'CsPbCl3_QD_ML_Prediction',\n",
    "    'target_variable': 'TBD',  # 결정 필요\n",
    "    'n_papers_target': 50,     # 목표 논문 수\n",
    "    'min_samples': 100,        # 최소 샘플 수\n",
    "}"
   ]
  }
 ],
 "metadata": {
  "language_info": {
   "name": "python"
  }
 },
 "nbformat": 4,
 "nbformat_minor": 5
}
